{
 "cells": [
  {
   "metadata": {
    "ExecuteTime": {
     "end_time": "2024-10-24T21:54:42.794568Z",
     "start_time": "2024-10-24T21:54:40.411105Z"
    }
   },
   "cell_type": "code",
   "source": [
    "import pandas as pd\n",
    "import matplotlib.pyplot as plt\n",
    "import glob\n",
    "import numpy as np\n",
    "import seaborn as sns\n",
    "from parse_name import parse_filename\n",
    "\n",
    "base_path = r\"../logs\"\n",
    "files = glob.glob(f\"{base_path}/*.csv\")\n",
    "MAX_STEPS = 1000\n",
    "spl_totals = []\n",
    "sns.set()\n",
    "\n",
    "for file in files:\n",
    "    metadata = parse_filename(file)\n",
    "    print(metadata)\n",
    "\n",
    "    df = pd.read_csv(file, sep=\";\", decimal=\",\")\n",
    "    string_cols = [\"ClipName\"]\n",
    "    for col in df.columns:\n",
    "        if col not in string_cols:\n",
    "            df[col] = pd.to_numeric(df[col], errors=\"coerce\")\n",
    "\n",
    "    shortest_path = df.groupby(\"Episode\")[\"PathLength\"].first()\n",
    "    df[\"FullPath\"] = shortest_path\n",
    "\n",
    "    cols = [\"AgentPositionY\", \"AgentPositionX\", \"AgentPositionZ\"]\n",
    "    diffs_per_episode = df.groupby(['Episode'], as_index=True)[cols].diff().fillna(0)\n",
    "    df[\"DeltaDistance\"] = np.sqrt((diffs_per_episode ** 2).sum(axis=1))\n",
    "    df[\"Steps\"] = df.groupby(\"Episode\")[\"DeltaDistance\"].transform(\"count\")\n",
    "\n",
    "    travelled = df.groupby(\"Episode\")[\"DeltaDistance\"].sum()\n",
    "    threshold = 10\n",
    "    travelled_with_threshold = travelled + threshold\n",
    "\n",
    "    steps_per_episode = df.groupby(\"Episode\")[\"Steps\"].first()\n",
    "    success = steps_per_episode <= MAX_STEPS\n",
    "\n",
    "    spl = success.astype(int) * (shortest_path / pd.DataFrame({'a': shortest_path, 'b': travelled_with_threshold}).max(axis=1))\n",
    "    spl_total = spl.sum() / len(spl)\n",
    "\n",
    "    model = metadata.model\n",
    "    if \"rect\" in model:\n",
    "        model = \"STFT-R\"\n",
    "    elif \"hanning\" in model:\n",
    "        if \"dynamic\" in model:\n",
    "            model = \"STFT-H dynamic\"\n",
    "            continue\n",
    "        else:\n",
    "            model = \"STFT-H\"\n",
    "    elif \"random\" in model:\n",
    "        model = \"Random\"\n",
    "    # model = metadata.model + \"_\" + str(metadata.decision_period)\n",
    "    # environment = metadata.scene + \"_\" + str(metadata.decision_period)  # In this evaluation, we want to see the effect of decision period\n",
    "    environment = metadata.scene\n",
    "    environment = environment.replace(\"static_\", \"\")\n",
    "    spl_totals.append({\"Environment\": environment, \"Model\": model, \"SPL\": spl_total})\n",
    "\n",
    "# Convert the list of dictionaries to a DataFrame\n",
    "sorted_spl_totals = pd.DataFrame(spl_totals)\n",
    "\n",
    "# Ensure hue order is applied correctly\n",
    "hue_order = [\"STFT-H\", \"STFT-R\", \"Random\"]\n",
    "\n",
    "sorted_spl_totals[\"Model\"] = pd.Categorical(sorted_spl_totals[\"Model\"], categories=hue_order, ordered=True)\n",
    "\n",
    "# Sort the DataFrame by SPL values\n",
    "sorted_spl_totals = sorted_spl_totals.sort_values(by='Environment', ascending=False)\n",
    "\n",
    "# Set font size for all text elements\n",
    "font_size = 14\n",
    "plt.rcParams.update({'font.size': font_size})\n",
    "\n",
    "# plt.figure()\n",
    "plt.figure(figsize=(6, 3))  # Adjust the size of the figure (width, height)\n",
    "plt.ylim(0, 1)\n",
    "# sns.set_context(\"notebook\", font_scale=1.2)  # Moderate font size\n",
    "sns.barplot(x=\"Environment\", y=\"SPL\", hue=\"Model\", data=sorted_spl_totals)\n",
    "plt.title(\"SPL in different environments\", fontsize=14)  # Increase title font size\n",
    "plt.xlabel(\"Environment\")\n",
    "plt.ylabel(\"SPL\")\n",
    "plt.legend(title='Model')\n",
    "plt.tight_layout()\n",
    "plt.savefig(\"spl.png\")\n",
    "plt.savefig(\"spl.pdf\")\n",
    "plt.show()\n"
   ],
   "id": "a66b66d6bfcef919",
   "outputs": [
    {
     "name": "stdout",
     "output_type": "stream",
     "text": [
      "FilenameParts(agent='HanningAO', model='hanning-ao-no-los-dynamic', model_id='10', scene='static_Complex', decision_period=1)\n",
      "FilenameParts(agent='HanningAO', model='hanning-ao-no-los-dynamic', model_id='10', scene='static_Medium', decision_period=1)\n",
      "FilenameParts(agent='HanningAO', model='hanning-ao-no-los-dynamic', model_id='10', scene='static_Simple', decision_period=1)\n",
      "FilenameParts(agent='HanningAO', model='hanning-ao-no-los-dynamic', model_id='11', scene='static_Complex', decision_period=1)\n",
      "FilenameParts(agent='HanningAO', model='hanning-ao-no-los-dynamic', model_id='11', scene='static_Medium', decision_period=1)\n",
      "FilenameParts(agent='HanningAO', model='hanning-ao-no-los-dynamic', model_id='11', scene='static_Simple', decision_period=1)\n",
      "FilenameParts(agent='HanningAO', model='hanning-ao-no-los-dynamic', model_id='12', scene='static_Complex', decision_period=1)\n",
      "FilenameParts(agent='HanningAO', model='hanning-ao-no-los-dynamic', model_id='12', scene='static_Medium', decision_period=1)\n",
      "FilenameParts(agent='HanningAO', model='hanning-ao-no-los-dynamic', model_id='12', scene='static_Simple', decision_period=1)\n",
      "FilenameParts(agent='HanningAO', model='hanning-ao-no-los', model_id='1', scene='static_Complex', decision_period=1)\n",
      "FilenameParts(agent='HanningAO', model='hanning-ao-no-los', model_id='1', scene='static_Medium', decision_period=1)\n",
      "FilenameParts(agent='HanningAO', model='hanning-ao-no-los', model_id='1', scene='static_Simple', decision_period=1)\n",
      "FilenameParts(agent='HanningAO', model='hanning-ao-no-los', model_id='2', scene='static_Complex', decision_period=1)\n",
      "FilenameParts(agent='HanningAO', model='hanning-ao-no-los', model_id='2', scene='static_Medium', decision_period=1)\n",
      "FilenameParts(agent='HanningAO', model='hanning-ao-no-los', model_id='2', scene='static_Simple', decision_period=1)\n",
      "FilenameParts(agent='HanningAO', model='hanning-ao-no-los', model_id='3', scene='static_Complex', decision_period=1)\n",
      "FilenameParts(agent='HanningAO', model='hanning-ao-no-los', model_id='3', scene='static_Medium', decision_period=1)\n",
      "FilenameParts(agent='HanningAO', model='hanning-ao-no-los', model_id='3', scene='static_Simple', decision_period=1)\n",
      "FilenameParts(agent='Random', model='random', model_id='10', scene='static_Complex', decision_period=1)\n",
      "FilenameParts(agent='Random', model='random', model_id='10', scene='static_Medium', decision_period=1)\n",
      "FilenameParts(agent='Random', model='random', model_id='10', scene='static_Simple', decision_period=1)\n",
      "FilenameParts(agent='RectAO', model='rect-ao-no-los', model_id='1', scene='static_Complex', decision_period=1)\n",
      "FilenameParts(agent='RectAO', model='rect-ao-no-los', model_id='1', scene='static_Medium', decision_period=1)\n",
      "FilenameParts(agent='RectAO', model='rect-ao-no-los', model_id='1', scene='static_Simple', decision_period=1)\n",
      "FilenameParts(agent='RectAO', model='rect-ao-no-los', model_id='2', scene='static_Complex', decision_period=1)\n",
      "FilenameParts(agent='RectAO', model='rect-ao-no-los', model_id='2', scene='static_Medium', decision_period=1)\n",
      "FilenameParts(agent='RectAO', model='rect-ao-no-los', model_id='2', scene='static_Simple', decision_period=1)\n",
      "FilenameParts(agent='RectAO', model='rect-ao-no-los', model_id='3', scene='static_Complex', decision_period=1)\n",
      "FilenameParts(agent='RectAO', model='rect-ao-no-los', model_id='3', scene='static_Medium', decision_period=1)\n",
      "FilenameParts(agent='RectAO', model='rect-ao-no-los', model_id='3', scene='static_Simple', decision_period=1)\n"
     ]
    },
    {
     "data": {
      "text/plain": [
       "<Figure size 600x300 with 1 Axes>"
      ],
      "image/png": "[encoded data removed]"
     },
     "metadata": {},
     "output_type": "display_data"
    }
   ],
   "execution_count": 8
  },
  {
   "metadata": {
    "ExecuteTime": {
     "end_time": "2024-10-24T19:55:52.344676Z",
     "start_time": "2024-10-24T19:55:52.329672Z"
    }
   },
   "cell_type": "code",
   "source": "",
   "id": "ac2c926eb8bd95ae",
   "outputs": [],
   "execution_count": null
  }
 ],
 "metadata": {
  "kernelspec": {
   "display_name": "Python 3",
   "language": "python",
   "name": "python3"
  },
  "language_info": {
   "codemirror_mode": {
    "name": "ipython",
    "version": 2
   },
   "file_extension": ".py",
   "mimetype": "text/x-python",
   "name": "python",
   "nbconvert_exporter": "python",
   "pygments_lexer": "ipython2",
   "version": "2.7.6"
  }
 },
 "nbformat": 4,
 "nbformat_minor": 5
}
